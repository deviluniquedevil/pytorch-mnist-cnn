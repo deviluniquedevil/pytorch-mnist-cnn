{
  "nbformat": 4,
  "nbformat_minor": 0,
  "metadata": {
    "colab": {
      "name": "CNN_MNIST_AKSHAY_KUMAWAT_17MI33002.ipynb",
      "provenance": []
    },
    "kernelspec": {
      "name": "python3",
      "display_name": "Python 3"
    },
    "accelerator": "GPU"
  },
  "cells": [
    {
      "cell_type": "code",
      "metadata": {
        "id": "ik3YTM6B_3sq"
      },
      "source": [
        "import torch\n",
        "import torch.nn as nn\n",
        "import torchvision\n",
        "import torchvision.transforms as transforms\n",
        "import matplotlib.pyplot as plt\n",
        "import numpy as np\n"
      ],
      "execution_count": 1,
      "outputs": []
    },
    {
      "cell_type": "code",
      "metadata": {
        "id": "xWBxnQs7AAKA"
      },
      "source": [
        "#config\n",
        "device = torch.device('cuda') # or 'cpu'"
      ],
      "execution_count": 2,
      "outputs": []
    },
    {
      "cell_type": "code",
      "metadata": {
        "id": "0XCzTYSfAF7l"
      },
      "source": [
        "# Param\n",
        "num_epochs = 20\n",
        "num_classes = 10\n",
        "batch_size = 100\n",
        "learning_rate = 0.002"
      ],
      "execution_count": 10,
      "outputs": []
    },
    {
      "cell_type": "code",
      "metadata": {
        "id": "64W8_FZwAVl-"
      },
      "source": [
        "# MNIST dataset\n",
        "train_dataset = torchvision.datasets.MNIST(root='../../data/', train=True, transform=transforms.ToTensor(),\n",
        "                                           download=True)\n",
        "test_dataset = torchvision.datasets.MNIST(root='../../data/', train=False, transform=transforms.ToTensor())\n",
        "\n",
        "# Data load\n",
        "train_loader = torch.utils.data.DataLoader(dataset=train_dataset, batch_size=batch_size, shuffle=True)\n",
        "test_loader = torch.utils.data.DataLoader(dataset=test_dataset, batch_size=batch_size, shuffle=False)"
      ],
      "execution_count": 11,
      "outputs": []
    },
    {
      "cell_type": "code",
      "metadata": {
        "id": "skXopXjZAZEA",
        "outputId": "ab16fdd7-2824-4c1b-8c32-67093e6b522e",
        "colab": {
          "base_uri": "https://localhost:8080/",
          "height": 269
        }
      },
      "source": [
        "\n",
        "# function to show an image\n",
        "def imshow(img):\n",
        "    img = img / 2 + 0.5\n",
        "    npimg = img.numpy()\n",
        "    plt.imshow(np.transpose(npimg, (1, 2, 0)))\n",
        "    plt.show()\n",
        "\n",
        "# get some random training images from dataset\n",
        "dataiter = iter(train_loader)\n",
        "images, labels = dataiter.next()\n",
        "# show images\n",
        "imshow(torchvision.utils.make_grid(images))"
      ],
      "execution_count": 5,
      "outputs": [
        {
          "output_type": "display_data",
          "data": {
            "image/png": "[encoded data removed]",
            "text/plain": [
              "<Figure size 432x288 with 1 Axes>"
            ]
          },
          "metadata": {
            "tags": [],
            "needs_background": "light"
          }
        }
      ]
    },
    {
      "cell_type": "code",
      "metadata": {
        "id": "bw8THwawAk0b",
        "outputId": "62a36f79-72ca-44e6-f834-7e2e9cf5533d",
        "colab": {
          "base_uri": "https://localhost:8080/",
          "height": 369
        }
      },
      "source": [
        "# CNN(three layer)\n",
        "class ConvNet(nn.Module):\n",
        "    def __init__(self, num_classes=10):\n",
        "        super(ConvNet, self).__init__()\n",
        "        self.layer1 = nn.Sequential(\n",
        "            nn.Conv2d(1, 16, kernel_size=5, stride=1, padding=2),\n",
        "            nn.BatchNorm2d(16),\n",
        "            nn.ReLU(),\n",
        "            nn.MaxPool2d(kernel_size=2, stride=2))\n",
        "        self.layer2 = nn.Sequential(\n",
        "            nn.Conv2d(16, 32, kernel_size=5, stride=1, padding=2),\n",
        "            nn.BatchNorm2d(32),\n",
        "            nn.ReLU(),\n",
        "            nn.MaxPool2d(kernel_size=2, stride=2))\n",
        "        self.layer3 = nn.Sequential(\n",
        "            nn.Conv2d(16, 32, kernel_size=5, stride=1, padding=2),\n",
        "            nn.BatchNorm2d(32),\n",
        "            nn.ReLU(),\n",
        "            nn.MaxPool2d(kernel_size=2, stride=2))\n",
        "        self.fc = nn.Linear(7 * 7 * 32, num_classes)\n",
        "\n",
        "    def forward(self, x):\n",
        "        out = self.layer1(x)\n",
        "        out = self.layer2(out)\n",
        "        out = out.reshape(out.size(0), -1)\n",
        "        out = self.fc(out)\n",
        "        return out\n",
        "\n",
        "\n",
        "model = ConvNet(num_classes).to(device)\n",
        "print (model)"
      ],
      "execution_count": 12,
      "outputs": [
        {
          "output_type": "stream",
          "text": [
            "ConvNet(\n",
            "  (layer1): Sequential(\n",
            "    (0): Conv2d(1, 16, kernel_size=(5, 5), stride=(1, 1), padding=(2, 2))\n",
            "    (1): BatchNorm2d(16, eps=1e-05, momentum=0.1, affine=True, track_running_stats=True)\n",
            "    (2): ReLU()\n",
            "    (3): MaxPool2d(kernel_size=2, stride=2, padding=0, dilation=1, ceil_mode=False)\n",
            "  )\n",
            "  (layer2): Sequential(\n",
            "    (0): Conv2d(16, 32, kernel_size=(5, 5), stride=(1, 1), padding=(2, 2))\n",
            "    (1): BatchNorm2d(32, eps=1e-05, momentum=0.1, affine=True, track_running_stats=True)\n",
            "    (2): ReLU()\n",
            "    (3): MaxPool2d(kernel_size=2, stride=2, padding=0, dilation=1, ceil_mode=False)\n",
            "  )\n",
            "  (layer3): Sequential(\n",
            "    (0): Conv2d(16, 32, kernel_size=(5, 5), stride=(1, 1), padding=(2, 2))\n",
            "    (1): BatchNorm2d(32, eps=1e-05, momentum=0.1, affine=True, track_running_stats=True)\n",
            "    (2): ReLU()\n",
            "    (3): MaxPool2d(kernel_size=2, stride=2, padding=0, dilation=1, ceil_mode=False)\n",
            "  )\n",
            "  (fc): Linear(in_features=1568, out_features=10, bias=True)\n",
            ")\n"
          ],
          "name": "stdout"
        }
      ]
    },
    {
      "cell_type": "code",
      "metadata": {
        "id": "eTiA_4dAAroI"
      },
      "source": [
        "# Loss and optimize\n",
        "criterion = nn.CrossEntropyLoss()\n",
        "optimizer = torch.optim.SGD(model.parameters(), lr=learning_rate)"
      ],
      "execution_count": 13,
      "outputs": []
    },
    {
      "cell_type": "code",
      "metadata": {
        "id": "ebwfn4iNA082",
        "outputId": "b50bafcf-8dee-4ec1-b415-29c30caccd38",
        "colab": {
          "base_uri": "https://localhost:8080/",
          "height": 1000
        }
      },
      "source": [
        "\n",
        "# Train\n",
        "total_step = len(train_loader)\n",
        "for epoch in range(num_epochs):\n",
        "    for i, (images, labels) in enumerate(train_loader):\n",
        "        images = images.to(device)\n",
        "        labels = labels.to(device)\n",
        "\n",
        "        # Forward pass\n",
        "        outputs = model(images)\n",
        "        loss = criterion(outputs, labels)\n",
        "\n",
        "        # Backprop and optimize\n",
        "        optimizer.zero_grad()\n",
        "        loss.backward()\n",
        "        optimizer.step()\n",
        "\n",
        "        if (i + 1) % 100 == 0:\n",
        "            print ('Epoch [{}/{}], Step [{}/{}], Loss: {:.4f}'\n",
        "                   .format(epoch + 1, num_epochs, i + 1, total_step, loss.item()))"
      ],
      "execution_count": 14,
      "outputs": [
        {
          "output_type": "stream",
          "text": [
            "Epoch [1/20], Step [100/600], Loss: 0.8482\n",
            "Epoch [1/20], Step [200/600], Loss: 0.5080\n",
            "Epoch [1/20], Step [300/600], Loss: 0.3463\n",
            "Epoch [1/20], Step [400/600], Loss: 0.2820\n",
            "Epoch [1/20], Step [500/600], Loss: 0.3539\n",
            "Epoch [1/20], Step [600/600], Loss: 0.1752\n",
            "Epoch [2/20], Step [100/600], Loss: 0.1844\n",
            "Epoch [2/20], Step [200/600], Loss: 0.2578\n",
            "Epoch [2/20], Step [300/600], Loss: 0.1753\n",
            "Epoch [2/20], Step [400/600], Loss: 0.1838\n",
            "Epoch [2/20], Step [500/600], Loss: 0.1684\n",
            "Epoch [2/20], Step [600/600], Loss: 0.1604\n",
            "Epoch [3/20], Step [100/600], Loss: 0.1037\n",
            "Epoch [3/20], Step [200/600], Loss: 0.1979\n",
            "Epoch [3/20], Step [300/600], Loss: 0.1691\n",
            "Epoch [3/20], Step [400/600], Loss: 0.1846\n",
            "Epoch [3/20], Step [500/600], Loss: 0.1302\n",
            "Epoch [3/20], Step [600/600], Loss: 0.0950\n",
            "Epoch [4/20], Step [100/600], Loss: 0.1267\n",
            "Epoch [4/20], Step [200/600], Loss: 0.1461\n",
            "Epoch [4/20], Step [300/600], Loss: 0.1066\n",
            "Epoch [4/20], Step [400/600], Loss: 0.0723\n",
            "Epoch [4/20], Step [500/600], Loss: 0.0825\n",
            "Epoch [4/20], Step [600/600], Loss: 0.0745\n",
            "Epoch [5/20], Step [100/600], Loss: 0.0813\n",
            "Epoch [5/20], Step [200/600], Loss: 0.0989\n",
            "Epoch [5/20], Step [300/600], Loss: 0.0944\n",
            "Epoch [5/20], Step [400/600], Loss: 0.1397\n",
            "Epoch [5/20], Step [500/600], Loss: 0.1588\n",
            "Epoch [5/20], Step [600/600], Loss: 0.1903\n",
            "Epoch [6/20], Step [100/600], Loss: 0.0738\n",
            "Epoch [6/20], Step [200/600], Loss: 0.1201\n",
            "Epoch [6/20], Step [300/600], Loss: 0.1176\n",
            "Epoch [6/20], Step [400/600], Loss: 0.1043\n",
            "Epoch [6/20], Step [500/600], Loss: 0.0877\n",
            "Epoch [6/20], Step [600/600], Loss: 0.1220\n",
            "Epoch [7/20], Step [100/600], Loss: 0.0678\n",
            "Epoch [7/20], Step [200/600], Loss: 0.0856\n",
            "Epoch [7/20], Step [300/600], Loss: 0.0479\n",
            "Epoch [7/20], Step [400/600], Loss: 0.1689\n",
            "Epoch [7/20], Step [500/600], Loss: 0.1897\n",
            "Epoch [7/20], Step [600/600], Loss: 0.0704\n",
            "Epoch [8/20], Step [100/600], Loss: 0.1110\n",
            "Epoch [8/20], Step [200/600], Loss: 0.0731\n",
            "Epoch [8/20], Step [300/600], Loss: 0.1030\n",
            "Epoch [8/20], Step [400/600], Loss: 0.0751\n",
            "Epoch [8/20], Step [500/600], Loss: 0.0951\n",
            "Epoch [8/20], Step [600/600], Loss: 0.2530\n",
            "Epoch [9/20], Step [100/600], Loss: 0.0464\n",
            "Epoch [9/20], Step [200/600], Loss: 0.0722\n",
            "Epoch [9/20], Step [300/600], Loss: 0.0808\n",
            "Epoch [9/20], Step [400/600], Loss: 0.0539\n",
            "Epoch [9/20], Step [500/600], Loss: 0.0972\n",
            "Epoch [9/20], Step [600/600], Loss: 0.0637\n",
            "Epoch [10/20], Step [100/600], Loss: 0.0734\n",
            "Epoch [10/20], Step [200/600], Loss: 0.0362\n",
            "Epoch [10/20], Step [300/600], Loss: 0.0461\n",
            "Epoch [10/20], Step [400/600], Loss: 0.0448\n",
            "Epoch [10/20], Step [500/600], Loss: 0.0753\n",
            "Epoch [10/20], Step [600/600], Loss: 0.0367\n",
            "Epoch [11/20], Step [100/600], Loss: 0.0735\n",
            "Epoch [11/20], Step [200/600], Loss: 0.0432\n",
            "Epoch [11/20], Step [300/600], Loss: 0.0505\n",
            "Epoch [11/20], Step [400/600], Loss: 0.0805\n",
            "Epoch [11/20], Step [500/600], Loss: 0.1024\n",
            "Epoch [11/20], Step [600/600], Loss: 0.0532\n",
            "Epoch [12/20], Step [100/600], Loss: 0.0544\n",
            "Epoch [12/20], Step [200/600], Loss: 0.0310\n",
            "Epoch [12/20], Step [300/600], Loss: 0.0246\n",
            "Epoch [12/20], Step [400/600], Loss: 0.0464\n",
            "Epoch [12/20], Step [500/600], Loss: 0.0455\n",
            "Epoch [12/20], Step [600/600], Loss: 0.0213\n",
            "Epoch [13/20], Step [100/600], Loss: 0.0802\n",
            "Epoch [13/20], Step [200/600], Loss: 0.0234\n",
            "Epoch [13/20], Step [300/600], Loss: 0.0673\n",
            "Epoch [13/20], Step [400/600], Loss: 0.0344\n",
            "Epoch [13/20], Step [500/600], Loss: 0.0317\n",
            "Epoch [13/20], Step [600/600], Loss: 0.0457\n",
            "Epoch [14/20], Step [100/600], Loss: 0.0496\n",
            "Epoch [14/20], Step [200/600], Loss: 0.0546\n",
            "Epoch [14/20], Step [300/600], Loss: 0.0391\n",
            "Epoch [14/20], Step [400/600], Loss: 0.0537\n",
            "Epoch [14/20], Step [500/600], Loss: 0.0908\n",
            "Epoch [14/20], Step [600/600], Loss: 0.0767\n",
            "Epoch [15/20], Step [100/600], Loss: 0.0477\n",
            "Epoch [15/20], Step [200/600], Loss: 0.0170\n",
            "Epoch [15/20], Step [300/600], Loss: 0.1052\n",
            "Epoch [15/20], Step [400/600], Loss: 0.0246\n",
            "Epoch [15/20], Step [500/600], Loss: 0.0481\n",
            "Epoch [15/20], Step [600/600], Loss: 0.0953\n",
            "Epoch [16/20], Step [100/600], Loss: 0.0662\n",
            "Epoch [16/20], Step [200/600], Loss: 0.1234\n",
            "Epoch [16/20], Step [300/600], Loss: 0.0297\n",
            "Epoch [16/20], Step [400/600], Loss: 0.0588\n",
            "Epoch [16/20], Step [500/600], Loss: 0.0790\n",
            "Epoch [16/20], Step [600/600], Loss: 0.0697\n",
            "Epoch [17/20], Step [100/600], Loss: 0.0452\n",
            "Epoch [17/20], Step [200/600], Loss: 0.0217\n",
            "Epoch [17/20], Step [300/600], Loss: 0.0448\n",
            "Epoch [17/20], Step [400/600], Loss: 0.0807\n",
            "Epoch [17/20], Step [500/600], Loss: 0.0590\n",
            "Epoch [17/20], Step [600/600], Loss: 0.0324\n",
            "Epoch [18/20], Step [100/600], Loss: 0.0147\n",
            "Epoch [18/20], Step [200/600], Loss: 0.0667\n",
            "Epoch [18/20], Step [300/600], Loss: 0.0544\n",
            "Epoch [18/20], Step [400/600], Loss: 0.0823\n",
            "Epoch [18/20], Step [500/600], Loss: 0.0526\n",
            "Epoch [18/20], Step [600/600], Loss: 0.0155\n",
            "Epoch [19/20], Step [100/600], Loss: 0.0948\n",
            "Epoch [19/20], Step [200/600], Loss: 0.0691\n",
            "Epoch [19/20], Step [300/600], Loss: 0.1950\n",
            "Epoch [19/20], Step [400/600], Loss: 0.0468\n",
            "Epoch [19/20], Step [500/600], Loss: 0.0274\n",
            "Epoch [19/20], Step [600/600], Loss: 0.0454\n",
            "Epoch [20/20], Step [100/600], Loss: 0.0300\n",
            "Epoch [20/20], Step [200/600], Loss: 0.0565\n",
            "Epoch [20/20], Step [300/600], Loss: 0.0384\n",
            "Epoch [20/20], Step [400/600], Loss: 0.0477\n",
            "Epoch [20/20], Step [500/600], Loss: 0.0231\n",
            "Epoch [20/20], Step [600/600], Loss: 0.0352\n"
          ],
          "name": "stdout"
        }
      ]
    },
    {
      "cell_type": "code",
      "metadata": {
        "id": "s6dfFd9QA4sm",
        "outputId": "9b72575a-1e45-4a4e-d61b-c3fac57a0207",
        "colab": {
          "base_uri": "https://localhost:8080/",
          "height": 33
        }
      },
      "source": [
        "# Test the model\n",
        "model.eval()  # eval mode (batchnorm uses moving mean/variance instead of mini-batch mean/variance)\n",
        "with torch.no_grad():\n",
        "    correct = 0\n",
        "    total = 0\n",
        "    for images, labels in test_loader:\n",
        "        images = images.to(device)\n",
        "        labels = labels.to(device)\n",
        "        outputs = model(images)\n",
        "        _, predicted = torch.max(outputs.data, 1)\n",
        "        total += labels.size(0)\n",
        "        correct += (predicted == labels).sum().item()\n",
        "\n",
        "    print('Model Accuracy on the 10000 test images: {} %'.format(100 * correct / total))\n"
      ],
      "execution_count": 16,
      "outputs": [
        {
          "output_type": "stream",
          "text": [
            "Model Accuracy on the 10000 test images: 98.62 %\n"
          ],
          "name": "stdout"
        }
      ]
    },
    {
      "cell_type": "code",
      "metadata": {
        "id": "dR8LBijqd3Hp"
      },
      "source": [
        ""
      ],
      "execution_count": null,
      "outputs": []
    }
  ]
}